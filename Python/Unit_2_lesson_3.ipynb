{
  "nbformat": 4,
  "nbformat_minor": 0,
  "metadata": {
    "colab": {
      "name": "Unit 2 lesson 3",
      "provenance": []
    },
    "kernelspec": {
      "name": "python3",
      "display_name": "Python 3"
    },
    "language_info": {
      "name": "python"
    }
  },
  "cells": [
    {
      "cell_type": "markdown",
      "source": [
        "Question 1: Create a list of 5 of your favorite tv shows."
      ],
      "metadata": {
        "id": "u2rwkqSEQwXz"
      }
    },
    {
      "cell_type": "code",
      "execution_count": null,
      "metadata": {
        "colab": {
          "base_uri": "https://localhost:8080/"
        },
        "id": "w1rHyjjmQsf3",
        "outputId": "621a588b-2f59-4f94-edb0-1771d46deb25"
      },
      "outputs": [
        {
          "output_type": "stream",
          "name": "stdout",
          "text": [
            "['Friends', 'Spongebob Squarepants', 'Sherlock Holmes', 'Doctor House', 'The Office']\n"
          ]
        }
      ],
      "source": [
        "tv_shows=[\"Friends\", \"Spongebob Squarepants\", \"Sherlock Holmes\",\"Doctor House\",\"The Office\"]\n",
        "print(tv_shows)"
      ]
    },
    {
      "cell_type": "markdown",
      "source": [
        "Question 2: Print the list in its original order."
      ],
      "metadata": {
        "id": "tRNYJ3abQ1Lx"
      }
    },
    {
      "cell_type": "code",
      "source": [
        "tv_shows=[\"Friends\", \"Spongebob Squarepants\", \"Sherlock Holmes\",\"Doctor House\",\"The Office\"]\n",
        "print(tv_shows)"
      ],
      "metadata": {
        "colab": {
          "base_uri": "https://localhost:8080/"
        },
        "id": "OnUKQBkXTDJc",
        "outputId": "a5b57dbc-1d1e-49e1-e608-be39675fae43"
      },
      "execution_count": null,
      "outputs": [
        {
          "output_type": "stream",
          "name": "stdout",
          "text": [
            "['Friends', 'Spongebob Squarepants', 'Sherlock Holmes', 'Doctor House', 'The Office']\n"
          ]
        }
      ]
    },
    {
      "cell_type": "markdown",
      "source": [
        "Question 3: Use the sorted() function to print the list in alphabetical order. How is sorted() different from\n",
        "sort()?"
      ],
      "metadata": {
        "id": "XXI_rTULTBtc"
      }
    },
    {
      "cell_type": "code",
      "source": [
        "tv_shows=[\"Friends\", \"Spongebob Squarepants\", \"Sherlock Holmes\",\"Doctor House\",\"The Office\"]\n",
        "tv_shows.sort()\n",
        "print(tv_shows)\n",
        "#sort() is permenant whereas sorted() is temporary."
      ],
      "metadata": {
        "colab": {
          "base_uri": "https://localhost:8080/"
        },
        "id": "vK9KXZIuTq2q",
        "outputId": "49c2af4f-482e-4b73-fe8a-7f6c9cb6aaef"
      },
      "execution_count": null,
      "outputs": [
        {
          "output_type": "stream",
          "name": "stdout",
          "text": [
            "['Doctor House', 'Friends', 'Sherlock Holmes', 'Spongebob Squarepants', 'The Office']\n"
          ]
        }
      ]
    },
    {
      "cell_type": "markdown",
      "source": [
        "Question 4: Print out your original list."
      ],
      "metadata": {
        "id": "Sqrf92V6Tm6Q"
      }
    },
    {
      "cell_type": "code",
      "source": [
        "tv_shows=[\"Friends\", \"Spongebob Squarepants\", \"Sherlock Holmes\",\"Doctor House\",\"The Office\"]\n",
        "print(tv_shows)"
      ],
      "metadata": {
        "colab": {
          "base_uri": "https://localhost:8080/"
        },
        "id": "PMxbe9XYTMBb",
        "outputId": "6ff1d5ea-2084-4ce9-f606-38115c00b2f6"
      },
      "execution_count": null,
      "outputs": [
        {
          "output_type": "stream",
          "name": "stdout",
          "text": [
            "['Friends', 'Spongebob Squarepants', 'Sherlock Holmes', 'Doctor House', 'The Office']\n"
          ]
        }
      ]
    },
    {
      "cell_type": "markdown",
      "source": [
        "Question 5: Used sorted() to print your list in reverse alphabetical order."
      ],
      "metadata": {
        "id": "TXI810pJTMhm"
      }
    },
    {
      "cell_type": "code",
      "source": [
        "tv_shows=[\"Friends\", \"Spongebob Squarepants\", \"Sherlock Holmes\",\"Doctor House\",\"The Office\"]\n",
        "tv_shows.sort(reverse=True)\n",
        "print(tv_shows)"
      ],
      "metadata": {
        "colab": {
          "base_uri": "https://localhost:8080/"
        },
        "id": "hMslivZSTZMY",
        "outputId": "2c7f1dbb-961e-42bb-c652-166cd79daf2c"
      },
      "execution_count": null,
      "outputs": [
        {
          "output_type": "stream",
          "name": "stdout",
          "text": [
            "['The Office', 'Spongebob Squarepants', 'Sherlock Holmes', 'Friends', 'Doctor House']\n"
          ]
        }
      ]
    },
    {
      "cell_type": "markdown",
      "source": [
        "Question 6: Create a message indicating how many favorite TV shows you have – use the len() function."
      ],
      "metadata": {
        "id": "NHx_VuBWTaUn"
      }
    },
    {
      "cell_type": "code",
      "source": [
        "tv_shows=[\"Friends\", \"Spongebob Squarepants\", \"Sherlock Holmes\",\"Doctor House\",\"The Office\"]\n",
        "len(tv_shows)\n",
        "print(\"I have\"+ \" \"+ str(len(tv_shows))+ \" \"+ \"favorite tv shows\")"
      ],
      "metadata": {
        "colab": {
          "base_uri": "https://localhost:8080/"
        },
        "id": "xdAJ340IbLdg",
        "outputId": "724b0c69-2eb6-4202-bf58-8857fa1b1f0a"
      },
      "execution_count": null,
      "outputs": [
        {
          "output_type": "stream",
          "name": "stdout",
          "text": [
            "I have 5 favorite tv shows\n"
          ]
        }
      ]
    }
  ]
}