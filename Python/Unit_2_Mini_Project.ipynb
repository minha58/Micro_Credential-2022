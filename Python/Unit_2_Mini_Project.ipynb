{
  "nbformat": 4,
  "nbformat_minor": 0,
  "metadata": {
    "colab": {
      "name": "Unit 2 Mini Project",
      "provenance": []
    },
    "kernelspec": {
      "name": "python3",
      "display_name": "Python 3"
    },
    "language_info": {
      "name": "python"
    }
  },
  "cells": [
    {
      "cell_type": "markdown",
      "source": [
        "Ask the user for a number. Depending on whether the number is even or odd, print out an\n",
        "appropriate message to the user. Hint: how does an even / odd number react differently\n",
        "when divided by 2?"
      ],
      "metadata": {
        "id": "Ve-MzyJgweY9"
      }
    },
    {
      "cell_type": "code",
      "execution_count": null,
      "metadata": {
        "id": "KurvNTAwwYZR",
        "colab": {
          "base_uri": "https://localhost:8080/"
        },
        "outputId": "7e83d254-77b9-4b94-8be4-ebbe7e07603d"
      },
      "outputs": [
        {
          "output_type": "stream",
          "name": "stdout",
          "text": [
            "Please pick a number: 67\n",
            "This number is odd!\n"
          ]
        }
      ],
      "source": [
        "num = int(input(\"Please pick a number: \"))\n",
        "mod = num % 2\n",
        "if mod > 0:\n",
        "    print(\"This number is odd!\")\n",
        "else:\n",
        "    print(\"This number is even!\")"
      ]
    }
  ]
}