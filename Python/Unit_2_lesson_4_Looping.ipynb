{
  "nbformat": 4,
  "nbformat_minor": 0,
  "metadata": {
    "colab": {
      "name": "Unit 2 lesson 4: Looping",
      "provenance": []
    },
    "kernelspec": {
      "name": "python3",
      "display_name": "Python 3"
    },
    "language_info": {
      "name": "python"
    }
  },
  "cells": [
    {
      "cell_type": "markdown",
      "source": [
        "Question 1: Create a list that holds 5 data variables."
      ],
      "metadata": {
        "id": "YhpKoG4KfLJW"
      }
    },
    {
      "cell_type": "code",
      "execution_count": null,
      "metadata": {
        "id": "fej8i-HYew70"
      },
      "outputs": [],
      "source": [
        "books= [\"Harry Potter\", \"Lord of the Rings\",\"Huckleberry Finn\",\"Mocking Bird\",\"1984\"]"
      ]
    },
    {
      "cell_type": "markdown",
      "source": [
        "Question 2: Print out those variables by using a for loop."
      ],
      "metadata": {
        "id": "6kF6h7m6fYOo"
      }
    },
    {
      "cell_type": "code",
      "source": [
        "books= [\"Harry Potter\", \"Lord of the Rings\",\"Huckleberry Finn\",\"Mocking Bird\",\"1984\"]\n",
        "for myfavorite in books:\n",
        "  print(myfavorite)"
      ],
      "metadata": {
        "id": "oStt1ecxfMEa",
        "colab": {
          "base_uri": "https://localhost:8080/"
        },
        "outputId": "41108adf-5086-47a7-eee7-8dcde260a155"
      },
      "execution_count": null,
      "outputs": [
        {
          "output_type": "stream",
          "name": "stdout",
          "text": [
            "Harry Potter\n",
            "Lord of the Rings\n",
            "Huckleberry Finn\n",
            "Mocking Bird\n",
            "1984\n"
          ]
        }
      ]
    },
    {
      "cell_type": "markdown",
      "source": [
        "Question 3: Modify your for loop to add a message to your for loop."
      ],
      "metadata": {
        "id": "hlZ0gT-lfdQk"
      }
    },
    {
      "cell_type": "code",
      "source": [
        "books= [\"Harry Potter\", \"Lord of the Rings\",\"Huckleberry Finn\",\"Mocking Bird\",\"1984\"]\n",
        "for myfavorite in books:\n",
        "  print(myfavorite +\" \" +\"is one of my favorite books!\")"
      ],
      "metadata": {
        "id": "_hWTo7SZfhak",
        "colab": {
          "base_uri": "https://localhost:8080/"
        },
        "outputId": "ab425b78-2f99-4d20-d0ea-fdec5a5a0859"
      },
      "execution_count": null,
      "outputs": [
        {
          "output_type": "stream",
          "name": "stdout",
          "text": [
            "Harry Potter is one of my favorite books!\n",
            "Lord of the Rings is one of my favorite books!\n",
            "Huckleberry Finn is one of my favorite books!\n",
            "Mocking Bird is one of my favorite books!\n",
            "1984 is one of my favorite books!\n"
          ]
        }
      ]
    },
    {
      "cell_type": "markdown",
      "source": [
        "Question 4: Use a for loop to print even numbers from 1-20."
      ],
      "metadata": {
        "id": "SLm44WThfh0R"
      }
    },
    {
      "cell_type": "code",
      "source": [
        "numbers = list(range(1,21, 2))\n",
        "for x in numbers:\n",
        "  print(x+1)"
      ],
      "metadata": {
        "id": "o8vSnE-BfwkV",
        "colab": {
          "base_uri": "https://localhost:8080/"
        },
        "outputId": "27bbe24f-8edd-4f33-c0bb-978309c8e729"
      },
      "execution_count": null,
      "outputs": [
        {
          "output_type": "stream",
          "name": "stdout",
          "text": [
            "2\n",
            "4\n",
            "6\n",
            "8\n",
            "10\n",
            "12\n",
            "14\n",
            "16\n",
            "18\n",
            "20\n"
          ]
        }
      ]
    },
    {
      "cell_type": "markdown",
      "source": [
        "Question 5: Sort your list in alphabetic order."
      ],
      "metadata": {
        "id": "qpP5HOhyfxIJ"
      }
    },
    {
      "cell_type": "code",
      "source": [
        "books= [\"Harry Potter\", \"Lord of the Rings\",\"Huckleberry Finn\",\"Mocking Bird\",\"1984\"]\n",
        "books.sort()\n",
        "print(books)"
      ],
      "metadata": {
        "id": "fXqjlU6Bf1Mv",
        "colab": {
          "base_uri": "https://localhost:8080/"
        },
        "outputId": "963a5e92-fe84-428b-85ea-2d5a5d673107"
      },
      "execution_count": null,
      "outputs": [
        {
          "output_type": "stream",
          "name": "stdout",
          "text": [
            "['1984', 'Harry Potter', 'Huckleberry Finn', 'Lord of the Rings', 'Mocking Bird']\n"
          ]
        }
      ]
    },
    {
      "cell_type": "markdown",
      "source": [
        "Question 6: Print out the first three elements of your list."
      ],
      "metadata": {
        "id": "mJovjDE_f1lZ"
      }
    },
    {
      "cell_type": "code",
      "source": [
        "books= [\"Harry Potter\", \"Lord of the Rings\",\"Huckleberry Finn\",\"Mocking Bird\",\"1984\"]\n",
        "print(books[0:3])"
      ],
      "metadata": {
        "id": "qgdvCoyvf5Ye",
        "colab": {
          "base_uri": "https://localhost:8080/"
        },
        "outputId": "bb95068a-570c-48c5-ebef-b4143035219c"
      },
      "execution_count": null,
      "outputs": [
        {
          "output_type": "stream",
          "name": "stdout",
          "text": [
            "['Harry Potter', 'Lord of the Rings', 'Huckleberry Finn']\n"
          ]
        }
      ]
    },
    {
      "cell_type": "markdown",
      "source": [
        "Question 7: Create a loop to print the last 2 elements of your list."
      ],
      "metadata": {
        "id": "qbHC1QPUf6AJ"
      }
    },
    {
      "cell_type": "code",
      "source": [
        "books= [\"Harry Potter\", \"Lord of the Rings\",\"Huckleberry Finn\",\"Mocking Bird\",\"1984\"]\n",
        "for genuis in books[3:5]:\n",
        "  print(genuis)\n"
      ],
      "metadata": {
        "id": "_dRrJnIGf-L2",
        "colab": {
          "base_uri": "https://localhost:8080/"
        },
        "outputId": "79bbe77a-966d-46dd-b48c-8deb047b6cdd"
      },
      "execution_count": null,
      "outputs": [
        {
          "output_type": "stream",
          "name": "stdout",
          "text": [
            "Mocking Bird\n",
            "1984\n"
          ]
        }
      ]
    },
    {
      "cell_type": "markdown",
      "source": [
        ""
      ],
      "metadata": {
        "id": "sDGPXfA_fLy4"
      }
    }
  ]
}