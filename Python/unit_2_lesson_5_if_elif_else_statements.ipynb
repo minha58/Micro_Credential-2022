{
  "nbformat": 4,
  "nbformat_minor": 0,
  "metadata": {
    "colab": {
      "name": "unit 2 lesson 5: if-elif-else statements",
      "provenance": []
    },
    "kernelspec": {
      "name": "python3",
      "display_name": "Python 3"
    },
    "language_info": {
      "name": "python"
    }
  },
  "cells": [
    {
      "cell_type": "markdown",
      "source": [
        "1. Make a list of 5 or more usernames, including an admin account. Imagine you are writing code\n",
        "that will welcome people to your application on login. Loop through the list and print your\n",
        "greeting.\n",
        "a. If the admin account logs in, give them a special greeting. They’re the admin, after all!\n",
        "b. Other users can get the generic greeting"
      ],
      "metadata": {
        "id": "GgUtKZ-ORNuO"
      }
    },
    {
      "cell_type": "code",
      "execution_count": null,
      "metadata": {
        "colab": {
          "base_uri": "https://localhost:8080/"
        },
        "id": "FYd2ke2tRGYJ",
        "outputId": "b12e4343-4ad2-4e90-c545-b9193e9e7c3a"
      },
      "outputs": [
        {
          "output_type": "stream",
          "name": "stdout",
          "text": [
            "Hello Master!\n",
            "Welcome back, user!\n",
            "Welcome back, user!\n",
            "Welcome back, user!\n",
            "Welcome back, user!\n"
          ]
        }
      ],
      "source": [
        "usernames=[\"admin\",\"psyduck\",\"pikachu\",\"squirtle\",\"jigglypuff\"]\n",
        "for names in usernames:\n",
        "  if names==\"admin\":\n",
        "    print('Hello Master!')\n",
        "  else:\n",
        "    print(\"Welcome back, user!\")\n"
      ]
    },
    {
      "cell_type": "markdown",
      "source": [
        "2. Store numbers 1-10 in a list\n",
        "a. Loop through the list\n",
        "b. Use an if-elif-else chain inside your loop to print the ordinal ending for each number –\n",
        "for example – 1 st , 2 nd , 3 rd …e.t.c."
      ],
      "metadata": {
        "id": "QPY3qQ5SRO4B"
      }
    },
    {
      "cell_type": "code",
      "source": [
        "numbers = list(range(1,11))\n",
        "for number in numbers:\n",
        "    if number == 1:\n",
        "        print(\"1st\")\n",
        "    elif number == 2:\n",
        "        print(\"2nd\")\n",
        "    elif number == 3:\n",
        "        print(\"3rd\")\n",
        "    else:\n",
        "        print(str(number) + \"th\")\n",
        "\n",
        "\n",
        "\n"
      ],
      "metadata": {
        "colab": {
          "base_uri": "https://localhost:8080/"
        },
        "id": "x-X2YHadRPht",
        "outputId": "3e957bf3-81ab-4ec2-9a78-ceca60cd5050"
      },
      "execution_count": null,
      "outputs": [
        {
          "output_type": "stream",
          "name": "stdout",
          "text": [
            "1st\n",
            "2nd\n",
            "3rd\n",
            "4th\n",
            "5th\n",
            "6th\n",
            "7th\n",
            "8th\n",
            "9th\n",
            "10th\n"
          ]
        }
      ]
    }
  ]
}