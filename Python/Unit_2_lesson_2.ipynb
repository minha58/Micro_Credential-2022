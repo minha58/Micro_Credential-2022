{
  "nbformat": 4,
  "nbformat_minor": 0,
  "metadata": {
    "colab": {
      "name": "Unit 2 lesson 2",
      "provenance": [],
      "collapsed_sections": []
    },
    "kernelspec": {
      "name": "python3",
      "display_name": "Python 3"
    },
    "language_info": {
      "name": "python"
    }
  },
  "cells": [
    {
      "cell_type": "markdown",
      "source": [
        "Question 1:"
      ],
      "metadata": {
        "id": "qDdyBQv_JfN1"
      }
    },
    {
      "cell_type": "code",
      "execution_count": null,
      "metadata": {
        "id": "dOYGnmb3_Lwo"
      },
      "outputs": [],
      "source": [
        "#What is python and why is it useful?\n",
        "#Python is a high level programming language. It is useful for data analysts because it can work on very large datasets with ease, saving time and effort. \n"
      ]
    },
    {
      "cell_type": "markdown",
      "source": [
        "Question 2: Are the following variable names allowed in python?"
      ],
      "metadata": {
        "id": "V74kuOtuJJ0q"
      }
    },
    {
      "cell_type": "code",
      "source": [
        "#1_message: can not be a variable since it starts with a number.\n",
        "#Greeting_message: can be a variable.\n",
        "#Message_1: can be a variable. \n",
        "#First name: can not be a variable since it contains space.\n",
        "#Full_name: Can be a variable."
      ],
      "metadata": {
        "id": "eYKzLrTAJJY1"
      },
      "execution_count": null,
      "outputs": []
    },
    {
      "cell_type": "markdown",
      "source": [
        "Question 3: Create a variable that holds the string “hello there!”\n"
      ],
      "metadata": {
        "id": "jFwJaxddLVT6"
      }
    },
    {
      "cell_type": "code",
      "source": [
        "variable=\"Hello There!\"\n",
        "print(variable)"
      ],
      "metadata": {
        "colab": {
          "base_uri": "https://localhost:8080/"
        },
        "id": "BW_Lwe7cJHpQ",
        "outputId": "0dfb9bea-7695-4fd7-9162-851f603b65ce"
      },
      "execution_count": null,
      "outputs": [
        {
          "output_type": "stream",
          "name": "stdout",
          "text": [
            "Hello There!\n"
          ]
        }
      ]
    },
    {
      "cell_type": "markdown",
      "source": [
        "Question 4: Create a variable for first name, last name and an email extension.  Concatenating all three together to form an email address."
      ],
      "metadata": {
        "id": "U8nLSEpRLrMS"
      }
    },
    {
      "cell_type": "code",
      "source": [
        "first_name= \"minha\"\n",
        "last_name= \"khundkar\"\n",
        "email = \"@gmail.com\"\n",
        "print(first_name+last_name+email)"
      ],
      "metadata": {
        "colab": {
          "base_uri": "https://localhost:8080/"
        },
        "id": "2Ww9ckUXLvO1",
        "outputId": "a82f8fe8-b706-40f2-e658-322baca15d69"
      },
      "execution_count": null,
      "outputs": [
        {
          "output_type": "stream",
          "name": "stdout",
          "text": [
            "minhakhundkar@gmail.com\n"
          ]
        }
      ]
    },
    {
      "cell_type": "markdown",
      "source": [
        "Question 5: Store someone you know name in a variable called name.  Print their name in lower and uppercase using a method.\n"
      ],
      "metadata": {
        "id": "hIrv2ptMMu2B"
      }
    },
    {
      "cell_type": "code",
      "source": [
        "name=\"Minha Khundkar\"\n",
        "print(name.upper())\n",
        "print(name.lower())"
      ],
      "metadata": {
        "colab": {
          "base_uri": "https://localhost:8080/"
        },
        "id": "agfNTStKMYEE",
        "outputId": "57f52f14-118c-4288-d614-25e45d328c22"
      },
      "execution_count": null,
      "outputs": [
        {
          "output_type": "stream",
          "name": "stdout",
          "text": [
            "MINHA KHUNDKAR\n",
            "minha khundkar\n"
          ]
        }
      ]
    },
    {
      "cell_type": "markdown",
      "source": [
        "Using a variable, ask your friend if they want to hang out on the 15th of the month.  For example, “Do you want to hang out on the 15th of this month?”  You should have to convert the number to a string.\n"
      ],
      "metadata": {
        "id": "MFdu4uJbNcFX"
      }
    },
    {
      "cell_type": "code",
      "source": [
        "variable= \"Do you want to hang out with me on\"  \n",
        "Variable_2= \"of this month?\"\n",
        "Variable_3= variable+ \" \" + \"15th\"+ \" \" +Variable_2\n",
        "print(Variable_3)"
      ],
      "metadata": {
        "colab": {
          "base_uri": "https://localhost:8080/"
        },
        "id": "CbpJEpbhNdpl",
        "outputId": "f0e48c86-1af6-4ba6-9e2b-809f5c45343b"
      },
      "execution_count": null,
      "outputs": [
        {
          "output_type": "stream",
          "name": "stdout",
          "text": [
            "Do you want to hang out with me on 15th of this month?\n"
          ]
        }
      ]
    }
  ]
}