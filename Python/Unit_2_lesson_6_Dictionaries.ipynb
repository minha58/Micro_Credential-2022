{
  "nbformat": 4,
  "nbformat_minor": 0,
  "metadata": {
    "colab": {
      "name": "Unit 2 lesson 6: Dictionaries",
      "provenance": []
    },
    "kernelspec": {
      "name": "python3",
      "display_name": "Python 3"
    },
    "language_info": {
      "name": "python"
    }
  },
  "cells": [
    {
      "cell_type": "markdown",
      "source": [
        "1. Create a simple dictionary that stores 2 variables, for example: first and last name.\n"
      ],
      "metadata": {
        "id": "Y_0-be71hVA3"
      }
    },
    {
      "cell_type": "code",
      "execution_count": null,
      "metadata": {
        "colab": {
          "base_uri": "https://localhost:8080/"
        },
        "id": "5oqL2SOBhMiF",
        "outputId": "f730d503-e061-4df4-f168-38ee27122eed"
      },
      "outputs": [
        {
          "output_type": "stream",
          "name": "stdout",
          "text": [
            "Minha\n",
            "Khundkar\n"
          ]
        }
      ],
      "source": [
        "me= {\"first_name\":\"Minha\", \"last_name\":\"Khundkar\"}\n"
      ]
    },
    {
      "cell_type": "markdown",
      "source": [
        "2. Print out those variables stored in your previous dictionary."
      ],
      "metadata": {
        "id": "W__io7hthQi-"
      }
    },
    {
      "cell_type": "code",
      "source": [
        "me= {\"first_name\":\"Minha\", \"last_name\":\"Khundkar\"}\n",
        "print(me[\"first_name\"])\n",
        "print(me[\"last_name\"])"
      ],
      "metadata": {
        "id": "h0s7ABMEhdh4"
      },
      "execution_count": null,
      "outputs": []
    },
    {
      "cell_type": "markdown",
      "source": [
        "3. Add a message to those variables on printing: for example: “Hello, firstname lastname!”"
      ],
      "metadata": {
        "id": "WWxJEF3IhenA"
      }
    },
    {
      "cell_type": "code",
      "source": [
        "me= {\"first_name\":\"Minha\", \"last_name\":\"Khundkar\"}\n",
        "print(\"Hello there,\"+ me[\"first_name\"]+\" \"+me[\"last_name\"])\n",
        "\n"
      ],
      "metadata": {
        "colab": {
          "base_uri": "https://localhost:8080/"
        },
        "id": "A3D-CtSghiP5",
        "outputId": "04c2fe67-ccc7-483f-e703-52fe0b9d6423"
      },
      "execution_count": null,
      "outputs": [
        {
          "output_type": "stream",
          "name": "stdout",
          "text": [
            "Hello there,Minha Khundkar\n"
          ]
        }
      ]
    }
  ]
}